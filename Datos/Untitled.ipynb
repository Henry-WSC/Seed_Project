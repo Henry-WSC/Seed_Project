{
 "cells": [
  {
   "cell_type": "code",
   "execution_count": 1,
   "id": "0691d46d-da75-40e2-98a3-2ca1cc461f3c",
   "metadata": {},
   "outputs": [],
   "source": [
    "# Celda 1: Importaciones y configuración inicial\n",
    "import os\n",
    "import torch\n",
    "import torchvision\n",
    "from torchvision.models.detection import maskrcnn_resnet50_fpn\n",
    "from torchvision.models.detection.faster_rcnn import FastRCNNPredictor\n",
    "from torchvision.models.detection.mask_rcnn import MaskRCNNPredictor\n",
    "from torch.utils.data import Dataset, DataLoader, Subset\n",
    "from pycocotools.coco import COCO\n",
    "from PIL import Image\n",
    "import numpy as np\n",
    "import matplotlib.pyplot as plt\n",
    "from sklearn.model_selection import train_test_split"
   ]
  },
  {
   "cell_type": "code",
   "execution_count": 2,
   "id": "17af149e-cccd-455a-be81-8c095561c184",
   "metadata": {},
   "outputs": [],
   "source": [
    "# Configuración de rutas y parámetros\n",
    "coco_file_path = r'C:\\Users\\HENRY\\Documents\\Seed_Project\\Project_germination\\result.json'\n",
    "image_dir = r'C:\\Users\\HENRY\\Documents\\Seed_Project\\Project_germination\\images'\n",
    "output_dir = 'output_masks'\n",
    "num_classes = 2  # Fondo + 1 clase (semillas)\n",
    "batch_size = 2\n",
    "num_epochs = 10\n",
    "learning_rate = 0.005"
   ]
  },
  {
   "cell_type": "code",
   "execution_count": 3,
   "id": "2ce12bd6-0f9c-49f9-b9f6-edd7d79c9b8b",
   "metadata": {},
   "outputs": [],
   "source": [
    "# Celda 2: Definición del conjunto de datos\n",
    "class SeedDataset(Dataset):\n",
    "    def __init__(self, coco, image_dir, transforms=None):\n",
    "        self.coco = coco\n",
    "        self.image_dir = image_dir\n",
    "        self.transforms = transforms\n",
    "        self.ids = list(self.coco.imgs.keys())\n",
    "\n",
    "    def __getitem__(self, index):\n",
    "        img_id = self.ids[index]\n",
    "        ann_ids = self.coco.getAnnIds(imgIds=img_id)\n",
    "        anns = self.coco.loadAnns(ann_ids)\n",
    "        \n",
    "        img_info = self.coco.loadImgs(img_id)[0]\n",
    "        img_path = os.path.join(self.image_dir, img_info['file_name'])\n",
    "        img = Image.open(img_path).convert(\"RGB\")\n",
    "        \n",
    "        num_objs = len(anns)\n",
    "        boxes = []\n",
    "        masks = []\n",
    "        for i in range(num_objs):\n",
    "            xmin = anns[i]['bbox'][0]\n",
    "            ymin = anns[i]['bbox'][1]\n",
    "            xmax = xmin + anns[i]['bbox'][2]\n",
    "            ymax = ymin + anns[i]['bbox'][3]\n",
    "            boxes.append([xmin, ymin, xmax, ymax])\n",
    "            mask = self.coco.annToMask(anns[i])\n",
    "            masks.append(mask)\n",
    "        \n",
    "        boxes = torch.as_tensor(boxes, dtype=torch.float32)\n",
    "        masks = torch.as_tensor(masks, dtype=torch.uint8)\n",
    "        \n",
    "        image_id = torch.tensor([img_id])\n",
    "        area = (boxes[:, 3] - boxes[:, 1]) * (boxes[:, 2] - boxes[:, 0])\n",
    "        iscrowd = torch.zeros((num_objs,), dtype=torch.int64)\n",
    "        \n",
    "        target = {}\n",
    "        target[\"boxes\"] = boxes\n",
    "        target[\"masks\"] = masks\n",
    "        target[\"image_id\"] = image_id\n",
    "        target[\"area\"] = area\n",
    "        target[\"iscrowd\"] = iscrowd\n",
    "        \n",
    "        if self.transforms is not None:\n",
    "            img, target = self.transforms(img, target)\n",
    "        \n",
    "        return img, target\n",
    "\n",
    "    def __len__(self):\n",
    "        return len(self.ids)"
   ]
  },
  {
   "cell_type": "code",
   "execution_count": 4,
   "id": "376e5478-0acd-4823-9f1b-51dea3f2f3f1",
   "metadata": {},
   "outputs": [],
   "source": [
    "# Celda 3: Funciones auxiliares\n",
    "def get_model(num_classes):\n",
    "    model = maskrcnn_resnet50_fpn(pretrained=True)\n",
    "    in_features = model.roi_heads.box_predictor.cls_score.in_features\n",
    "    model.roi_heads.box_predictor = FastRCNNPredictor(in_features, num_classes)\n",
    "    in_features_mask = model.roi_heads.mask_predictor.conv5_mask.in_channels\n",
    "    hidden_layer = 256\n",
    "    model.roi_heads.mask_predictor = MaskRCNNPredictor(in_features_mask, hidden_layer, num_classes)\n",
    "    return model\n",
    "\n",
    "def get_subset_indices(dataset, num_images):\n",
    "    return torch.randperm(len(dataset))[:num_images].tolist()\n",
    "\n",
    "def visualize_and_export_masks(model, dataset, indices, output_dir):\n",
    "    model.eval()\n",
    "    device = next(model.parameters()).device\n",
    "    \n",
    "    os.makedirs(output_dir, exist_ok=True)\n",
    "    \n",
    "    for idx in indices:\n",
    "        image, target = dataset[idx]\n",
    "        image_tensor = torchvision.transforms.functional.to_tensor(image).unsqueeze(0).to(device)\n",
    "        \n",
    "        with torch.no_grad():\n",
    "            prediction = model(image_tensor)[0]\n",
    "        \n",
    "        image_np = np.array(image)\n",
    "        masks = prediction['masks'].cpu().numpy()\n",
    "        \n",
    "        plt.figure(figsize=(15, 5))\n",
    "        plt.subplot(1, 3, 1)\n",
    "        plt.imshow(image_np)\n",
    "        plt.title('Original Image')\n",
    "        \n",
    "        plt.subplot(1, 3, 2)\n",
    "        plt.imshow(image_np)\n",
    "        for mask in masks:\n",
    "            plt.imshow(mask[0], alpha=0.5, cmap='jet')\n",
    "        plt.title('Predicted Masks')\n",
    "        \n",
    "        plt.subplot(1, 3, 3)\n",
    "        plt.imshow(image_np)\n",
    "        for mask in target['masks']:\n",
    "            plt.imshow(mask.numpy(), alpha=0.5, cmap='jet')\n",
    "        plt.title('Ground Truth Masks')\n",
    "        \n",
    "        plt.savefig(os.path.join(output_dir, f'mask_comparison_{idx}.png'))\n",
    "        plt.close()\n",
    "        \n",
    "        for i, mask in enumerate(masks):\n",
    "            mask_image = Image.fromarray((mask[0] * 255).astype(np.uint8))\n",
    "            mask_image.save(os.path.join(output_dir, f'mask_{idx}_{i}.png'))"
   ]
  },
  {
   "cell_type": "code",
   "execution_count": 5,
   "id": "a3f56ed4-30ee-47ef-8fd8-4cdc6ca61f1b",
   "metadata": {},
   "outputs": [
    {
     "name": "stdout",
     "output_type": "stream",
     "text": [
      "loading annotations into memory...\n",
      "Done (t=0.43s)\n",
      "creating index...\n",
      "index created!\n",
      "Tamaño del conjunto de entrenamiento: 111\n",
      "Tamaño del conjunto de validación: 32\n",
      "Tamaño del conjunto de prueba: 16\n"
     ]
    }
   ],
   "source": [
    "# Celda 4: Preparación de los datos\n",
    "coco = COCO(coco_file_path)\n",
    "dataset = SeedDataset(coco, image_dir)\n",
    "\n",
    "# Dividir los datos en conjuntos de entrenamiento, validación y prueba\n",
    "train_indices, temp_indices = train_test_split(range(len(dataset)), test_size=0.3, random_state=42)\n",
    "val_indices, test_indices = train_test_split(temp_indices, test_size=0.33, random_state=42)\n",
    "\n",
    "train_dataset = Subset(dataset, train_indices)\n",
    "val_dataset = Subset(dataset, val_indices)\n",
    "test_dataset = Subset(dataset, test_indices)\n",
    "\n",
    "train_loader = DataLoader(train_dataset, batch_size=batch_size, shuffle=True, num_workers=4, collate_fn=lambda x: tuple(zip(*x)))\n",
    "val_loader = DataLoader(val_dataset, batch_size=batch_size, shuffle=False, num_workers=4, collate_fn=lambda x: tuple(zip(*x)))\n",
    "test_loader = DataLoader(test_dataset, batch_size=batch_size, shuffle=False, num_workers=4, collate_fn=lambda x: tuple(zip(*x)))\n",
    "\n",
    "print(f\"Tamaño del conjunto de entrenamiento: {len(train_dataset)}\")\n",
    "print(f\"Tamaño del conjunto de validación: {len(val_dataset)}\")\n",
    "print(f\"Tamaño del conjunto de prueba: {len(test_dataset)}\")"
   ]
  },
  {
   "cell_type": "code",
   "execution_count": 6,
   "id": "75d5e883-51e4-4821-bdc2-ed996ecc5f60",
   "metadata": {},
   "outputs": [
    {
     "name": "stderr",
     "output_type": "stream",
     "text": [
      "C:\\Users\\HENRY\\anaconda3\\envs\\Seed_Project\\Lib\\site-packages\\torchvision\\models\\_utils.py:208: UserWarning: The parameter 'pretrained' is deprecated since 0.13 and may be removed in the future, please use 'weights' instead.\n",
      "  warnings.warn(\n",
      "C:\\Users\\HENRY\\anaconda3\\envs\\Seed_Project\\Lib\\site-packages\\torchvision\\models\\_utils.py:223: UserWarning: Arguments other than a weight enum or `None` for 'weights' are deprecated since 0.13 and may be removed in the future. The current behavior is equivalent to passing `weights=MaskRCNN_ResNet50_FPN_Weights.COCO_V1`. You can also use `weights=MaskRCNN_ResNet50_FPN_Weights.DEFAULT` to get the most up-to-date weights.\n",
      "  warnings.warn(msg)\n"
     ]
    }
   ],
   "source": [
    "# Celda 5: Preentrenamiento (usando un subconjunto pequeño)\n",
    "device = torch.device('cuda') if torch.cuda.is_available() else torch.device('cpu')\n",
    "model = get_model(num_classes)\n",
    "model.to(device)\n",
    "\n",
    "params = [p for p in model.parameters() if p.requires_grad]\n",
    "optimizer = torch.optim.SGD(params, lr=learning_rate, momentum=0.9, weight_decay=0.0005)"
   ]
  },
  {
   "cell_type": "code",
   "execution_count": 7,
   "id": "074f7382-c89c-4ca6-b15a-39bd95634806",
   "metadata": {},
   "outputs": [],
   "source": [
    "# Seleccionar un subconjunto pequeño para preentrenamiento\n",
    "pretraining_indices = get_subset_indices(train_dataset, 5)\n",
    "pretraining_dataset = Subset(train_dataset, pretraining_indices)\n",
    "pretraining_loader = DataLoader(pretraining_dataset, batch_size=2, shuffle=True, num_workers=4, collate_fn=lambda x: tuple(zip(*x)))"
   ]
  },
  {
   "cell_type": "code",
   "execution_count": null,
   "id": "3213bbf8-0322-4c4b-b323-109c0c62499f",
   "metadata": {},
   "outputs": [],
   "source": [
    "# Preentrenamiento\n",
    "num_pretraining_epochs = 5\n",
    "for epoch in range(num_pretraining_epochs):\n",
    "    model.train()\n",
    "    for images, targets in pretraining_loader:\n",
    "        images = list(image.to(device) for image in images)\n",
    "        targets = [{k: v.to(device) for k, v in t.items()} for t in targets]\n",
    "        \n",
    "        loss_dict = model(images, targets)\n",
    "        losses = sum(loss for loss in loss_dict.values())\n",
    "        \n",
    "        optimizer.zero_grad()\n",
    "        losses.backward()\n",
    "        optimizer.step()\n",
    "        \n",
    "        print(f\"Preentrenamiento - Epoch: {epoch}, Loss: {losses.item()}\")\n",
    "\n",
    "print(\"Preentrenamiento completado!\")"
   ]
  },
  {
   "cell_type": "code",
   "execution_count": null,
   "id": "653981b9-b7a6-40ae-a05a-d58ed51a0bb4",
   "metadata": {},
   "outputs": [],
   "source": [
    "# Exportar máscaras después del preentrenamiento\n",
    "visualize_and_export_masks(model, dataset, pretraining_indices, os.path.join(output_dir, 'pretraining'))"
   ]
  },
  {
   "cell_type": "code",
   "execution_count": null,
   "id": "5741669a-5de4-4714-ab48-d5e02572c733",
   "metadata": {},
   "outputs": [],
   "source": []
  }
 ],
 "metadata": {
  "kernelspec": {
   "display_name": "Python 3 (ipykernel)",
   "language": "python",
   "name": "python3"
  },
  "language_info": {
   "codemirror_mode": {
    "name": "ipython",
    "version": 3
   },
   "file_extension": ".py",
   "mimetype": "text/x-python",
   "name": "python",
   "nbconvert_exporter": "python",
   "pygments_lexer": "ipython3",
   "version": "3.12.5"
  }
 },
 "nbformat": 4,
 "nbformat_minor": 5
}

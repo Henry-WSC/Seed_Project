{
 "cells": [
  {
   "cell_type": "code",
   "execution_count": 1,
   "id": "e04569f7-a9f6-41b8-8903-671a8919ef6d",
   "metadata": {
    "collapsed": true,
    "jupyter": {
     "outputs_hidden": true
    },
    "scrolled": true
   },
   "outputs": [
    {
     "name": "stdout",
     "output_type": "stream",
     "text": [
      "Requirement already satisfied: scikit-learn in c:\\users\\henrry\\anaconda3\\envs\\semillas\\lib\\site-packages (1.5.2)\n",
      "Requirement already satisfied: torch in c:\\users\\henrry\\anaconda3\\envs\\semillas\\lib\\site-packages (2.4.1)\n",
      "Requirement already satisfied: torchvision in c:\\users\\henrry\\anaconda3\\envs\\semillas\\lib\\site-packages (0.19.1)\n",
      "Requirement already satisfied: pycocotools in c:\\users\\henrry\\anaconda3\\envs\\semillas\\lib\\site-packages (2.0.8)\n",
      "Requirement already satisfied: pillow in c:\\users\\henrry\\anaconda3\\envs\\semillas\\lib\\site-packages (10.4.0)\n",
      "Requirement already satisfied: numpy>=1.19.5 in c:\\users\\henrry\\anaconda3\\envs\\semillas\\lib\\site-packages (from scikit-learn) (2.1.1)\n",
      "Requirement already satisfied: scipy>=1.6.0 in c:\\users\\henrry\\anaconda3\\envs\\semillas\\lib\\site-packages (from scikit-learn) (1.14.1)\n",
      "Requirement already satisfied: joblib>=1.2.0 in c:\\users\\henrry\\anaconda3\\envs\\semillas\\lib\\site-packages (from scikit-learn) (1.4.2)\n",
      "Requirement already satisfied: threadpoolctl>=3.1.0 in c:\\users\\henrry\\anaconda3\\envs\\semillas\\lib\\site-packages (from scikit-learn) (3.5.0)\n",
      "Requirement already satisfied: filelock in c:\\users\\henrry\\anaconda3\\envs\\semillas\\lib\\site-packages (from torch) (3.16.1)\n",
      "Requirement already satisfied: typing-extensions>=4.8.0 in c:\\users\\henrry\\anaconda3\\envs\\semillas\\lib\\site-packages (from torch) (4.11.0)\n",
      "Requirement already satisfied: sympy in c:\\users\\henrry\\anaconda3\\envs\\semillas\\lib\\site-packages (from torch) (1.13.3)\n",
      "Requirement already satisfied: networkx in c:\\users\\henrry\\anaconda3\\envs\\semillas\\lib\\site-packages (from torch) (3.3)\n",
      "Requirement already satisfied: jinja2 in c:\\users\\henrry\\anaconda3\\envs\\semillas\\lib\\site-packages (from torch) (3.1.4)\n",
      "Requirement already satisfied: fsspec in c:\\users\\henrry\\anaconda3\\envs\\semillas\\lib\\site-packages (from torch) (2024.9.0)\n",
      "Requirement already satisfied: setuptools in c:\\users\\henrry\\anaconda3\\envs\\semillas\\lib\\site-packages (from torch) (75.1.0)\n",
      "Requirement already satisfied: matplotlib>=2.1.0 in c:\\users\\henrry\\anaconda3\\envs\\semillas\\lib\\site-packages (from pycocotools) (3.9.2)\n",
      "Requirement already satisfied: contourpy>=1.0.1 in c:\\users\\henrry\\anaconda3\\envs\\semillas\\lib\\site-packages (from matplotlib>=2.1.0->pycocotools) (1.3.0)\n",
      "Requirement already satisfied: cycler>=0.10 in c:\\users\\henrry\\anaconda3\\envs\\semillas\\lib\\site-packages (from matplotlib>=2.1.0->pycocotools) (0.12.1)\n",
      "Requirement already satisfied: fonttools>=4.22.0 in c:\\users\\henrry\\anaconda3\\envs\\semillas\\lib\\site-packages (from matplotlib>=2.1.0->pycocotools) (4.54.1)\n",
      "Requirement already satisfied: kiwisolver>=1.3.1 in c:\\users\\henrry\\anaconda3\\envs\\semillas\\lib\\site-packages (from matplotlib>=2.1.0->pycocotools) (1.4.7)\n",
      "Requirement already satisfied: packaging>=20.0 in c:\\users\\henrry\\anaconda3\\envs\\semillas\\lib\\site-packages (from matplotlib>=2.1.0->pycocotools) (24.1)\n",
      "Requirement already satisfied: pyparsing>=2.3.1 in c:\\users\\henrry\\anaconda3\\envs\\semillas\\lib\\site-packages (from matplotlib>=2.1.0->pycocotools) (3.1.4)\n",
      "Requirement already satisfied: python-dateutil>=2.7 in c:\\users\\henrry\\anaconda3\\envs\\semillas\\lib\\site-packages (from matplotlib>=2.1.0->pycocotools) (2.9.0.post0)\n",
      "Requirement already satisfied: MarkupSafe>=2.0 in c:\\users\\henrry\\anaconda3\\envs\\semillas\\lib\\site-packages (from jinja2->torch) (2.1.3)\n",
      "Requirement already satisfied: mpmath<1.4,>=1.1.0 in c:\\users\\henrry\\anaconda3\\envs\\semillas\\lib\\site-packages (from sympy->torch) (1.3.0)\n",
      "Requirement already satisfied: six>=1.5 in c:\\users\\henrry\\anaconda3\\envs\\semillas\\lib\\site-packages (from python-dateutil>=2.7->matplotlib>=2.1.0->pycocotools) (1.16.0)\n"
     ]
    }
   ],
   "source": [
    "# Instalación de paquetes necesarios\n",
    "!pip install scikit-learn torch torchvision pycocotools pillow"
   ]
  },
  {
   "cell_type": "code",
   "execution_count": 2,
   "id": "1ab6e8bb-116b-43c1-8d41-fad7989110de",
   "metadata": {},
   "outputs": [],
   "source": [
    "# Importación de librerías\n",
    "import os\n",
    "from sklearn.model_selection import train_test_split\n",
    "from pycocotools.coco import COCO\n",
    "from torch.utils.data import Dataset, DataLoader\n",
    "from torchvision import transforms\n",
    "from PIL import Image\n",
    "import torch\n",
    "import torch.optim as optim\n",
    "from torchvision.models.detection import maskrcnn_resnet50_fpn\n",
    "import torch.optim as optim\n",
    "from torchvision.models.detection import maskrcnn_resnet50_fpn\n",
    "from torch.utils.data import DataLoader\n",
    "import torch.optim as optim\n",
    "from torchvision.models.detection import maskrcnn_resnet50_fpn\n",
    "from torch.utils.data import DataLoader\n",
    "import torchvision"
   ]
  },
  {
   "cell_type": "code",
   "execution_count": 3,
   "id": "256f0f3d-99a4-497a-824d-aeb618cf40bc",
   "metadata": {},
   "outputs": [],
   "source": [
    "# Definición de rutas\n",
    "coco_file_path = r'D:\\Proyecto_Semillas\\Germinacion\\Semillas_Ger\\result.json'\n",
    "image_dir = r'D:\\Proyecto_Semillas\\Germinacion\\Semillas_Ger\\images'"
   ]
  },
  {
   "cell_type": "code",
   "execution_count": 4,
   "id": "d666c596-7306-4339-bc9c-2d8ee5487564",
   "metadata": {},
   "outputs": [
    {
     "name": "stdout",
     "output_type": "stream",
     "text": [
      "loading annotations into memory...\n",
      "Done (t=0.42s)\n",
      "creating index...\n",
      "index created!\n"
     ]
    }
   ],
   "source": [
    "# Cargar las anotaciones COCO\n",
    "coco = COCO(coco_file_path)"
   ]
  },
  {
   "cell_type": "code",
   "execution_count": 5,
   "id": "0b42eea9-df15-4669-b5cf-fdf207436ada",
   "metadata": {},
   "outputs": [],
   "source": [
    "# Obtener todos los IDs de las imágenes\n",
    "img_ids = list(coco.imgs.keys())"
   ]
  },
  {
   "cell_type": "code",
   "execution_count": 6,
   "id": "1899d210-36fa-49bc-9609-8742b53a1b5f",
   "metadata": {},
   "outputs": [
    {
     "name": "stdout",
     "output_type": "stream",
     "text": [
      "Total imágenes: 159\n",
      "Imágenes de entrenamiento: 127\n",
      "Imágenes de validación: 32\n"
     ]
    }
   ],
   "source": [
    "# Dividir los datos: 80% entrenamiento, 20% evaluación\n",
    "train_ids, val_ids = train_test_split(img_ids, test_size=0.2, random_state=42)\n",
    "\n",
    "print(f\"Total imágenes: {len(img_ids)}\")\n",
    "print(f\"Imágenes de entrenamiento: {len(train_ids)}\")\n",
    "print(f\"Imágenes de validación: {len(val_ids)}\")"
   ]
  },
  {
   "cell_type": "code",
   "execution_count": 8,
   "id": "f2356cb9-1a51-487f-92ed-2abe0c09e80c",
   "metadata": {},
   "outputs": [],
   "source": [
    "# Definición de la clase SeedsDataset\n",
    "class SeedsDataset(Dataset):\n",
    "    def __init__(self, annotation_file, image_dir, img_ids, transforms=None):\n",
    "        self.coco = COCO(annotation_file)\n",
    "        self.image_dir = image_dir\n",
    "        self.transforms = transforms\n",
    "        self.ids = img_ids\n",
    "\n",
    "    def __getitem__(self, index):\n",
    "        img_id = self.ids[index]\n",
    "        \n",
    "        img_path = os.path.join(self.image_dir, self.coco.loadImgs(img_id)[0]['file_name'])\n",
    "        img = Image.open(img_path).convert(\"RGB\")\n",
    "        \n",
    "        ann_ids = self.coco.getAnnIds(imgIds=img_id)\n",
    "        anns = self.coco.loadAnns(ann_ids)\n",
    "        \n",
    "        boxes = []\n",
    "        masks = []\n",
    "        labels = []\n",
    "        for ann in anns:\n",
    "            xmin, ymin, width, height = ann['bbox']\n",
    "            boxes.append([xmin, ymin, xmin + width, ymin + height])\n",
    "            masks.append(self.coco.annToMask(ann))\n",
    "            labels.append(ann['category_id'])\n",
    "        \n",
    "        boxes = torch.as_tensor(boxes, dtype=torch.float32)\n",
    "        masks = torch.as_tensor(masks, dtype=torch.uint8)\n",
    "        labels = torch.as_tensor(labels, dtype=torch.int64)\n",
    "        \n",
    "        target = {\n",
    "            'boxes': boxes,\n",
    "            'labels': labels,\n",
    "            'masks': masks\n",
    "        }\n",
    "        \n",
    "        if self.transforms:\n",
    "            img, target = self.transforms(img, target)\n",
    "        \n",
    "        return img, target\n",
    "\n",
    "    def __len__(self):\n",
    "        return len(self.ids)"
   ]
  },
  {
   "cell_type": "code",
   "execution_count": 9,
   "id": "56563dd1-ffa8-463e-b831-03435aa9ee72",
   "metadata": {},
   "outputs": [
    {
     "name": "stdout",
     "output_type": "stream",
     "text": [
      "loading annotations into memory...\n",
      "Done (t=0.40s)\n",
      "creating index...\n",
      "index created!\n",
      "loading annotations into memory...\n",
      "Done (t=0.37s)\n",
      "creating index...\n",
      "index created!\n"
     ]
    }
   ],
   "source": [
    "# Crear datasets para entrenamiento y validación\n",
    "train_dataset = SeedsDataset(annotation_file=coco_file_path, image_dir=image_dir, img_ids=train_ids)\n",
    "val_dataset = SeedsDataset(annotation_file=coco_file_path, image_dir=image_dir, img_ids=val_ids)"
   ]
  },
  {
   "cell_type": "code",
   "execution_count": 10,
   "id": "1066d1e1-95f4-4061-b1e8-a0ed5bb71f24",
   "metadata": {},
   "outputs": [],
   "source": [
    "# Crear dataloaders para entrenamiento y validación\n",
    "train_loader = DataLoader(train_dataset, batch_size=2, shuffle=True, num_workers=4)\n",
    "val_loader = DataLoader(val_dataset, batch_size=2, shuffle=False, num_workers=4)"
   ]
  },
  {
   "cell_type": "code",
   "execution_count": 11,
   "id": "507ef780-1f2e-4b48-bd2c-1cdef4c89533",
   "metadata": {},
   "outputs": [
    {
     "name": "stdout",
     "output_type": "stream",
     "text": [
      "\n",
      "Categorías en el dataset: ['qrcode', 'root', 'scale1cm', 'seed', 'shoot']\n"
     ]
    }
   ],
   "source": [
    "# Cargar las categorías (clases)\n",
    "categories = coco.loadCats(coco.getCatIds())\n",
    "print(f\"\\nCategorías en el dataset: {[cat['name'] for cat in categories]}\")"
   ]
  },
  {
   "cell_type": "code",
   "execution_count": 12,
   "id": "f2fc35d0-bcec-470c-9c2a-0a8265818e5a",
   "metadata": {},
   "outputs": [
    {
     "name": "stdout",
     "output_type": "stream",
     "text": [
      "ID: 0, Nombre: qrcode\n",
      "ID: 1, Nombre: root\n",
      "ID: 2, Nombre: scale1cm\n",
      "ID: 3, Nombre: seed\n",
      "ID: 4, Nombre: shoot\n"
     ]
    }
   ],
   "source": [
    "# Detalles de cada categoría\n",
    "for cat in categories:\n",
    "    print(f\"ID: {cat['id']}, Nombre: {cat['name']}\")"
   ]
  },
  {
   "cell_type": "code",
   "execution_count": 13,
   "id": "f54dd318-6b46-487f-b488-75cd27298ceb",
   "metadata": {
    "scrolled": true
   },
   "outputs": [
    {
     "name": "stderr",
     "output_type": "stream",
     "text": [
      "C:\\Users\\HENRRY\\anaconda3\\envs\\Semillas\\Lib\\site-packages\\torchvision\\models\\_utils.py:208: UserWarning: The parameter 'pretrained' is deprecated since 0.13 and may be removed in the future, please use 'weights' instead.\n",
      "  warnings.warn(\n",
      "C:\\Users\\HENRRY\\anaconda3\\envs\\Semillas\\Lib\\site-packages\\torchvision\\models\\_utils.py:223: UserWarning: Arguments other than a weight enum or `None` for 'weights' are deprecated since 0.13 and may be removed in the future. The current behavior is equivalent to passing `weights=MaskRCNN_ResNet50_FPN_Weights.COCO_V1`. You can also use `weights=MaskRCNN_ResNet50_FPN_Weights.DEFAULT` to get the most up-to-date weights.\n",
      "  warnings.warn(msg)\n"
     ]
    }
   ],
   "source": [
    "# Cargar el modelo preentrenado\n",
    "model = maskrcnn_resnet50_fpn(pretrained=True)"
   ]
  },
  {
   "cell_type": "code",
   "execution_count": 14,
   "id": "d9c6a862-267a-4f8b-8d14-140dd597f624",
   "metadata": {},
   "outputs": [
    {
     "name": "stdout",
     "output_type": "stream",
     "text": [
      "Número de clases: 6\n"
     ]
    }
   ],
   "source": [
    "# Definir el número de clases (incluyendo el fondo)\n",
    "num_classes = 6  # Fondo + ['qrcode', 'root', 'scale1cm', 'seed', 'shoot']\n",
    "print(f\"Número de clases: {num_classes}\")"
   ]
  },
  {
   "cell_type": "code",
   "execution_count": 15,
   "id": "3cfb7100-476a-4e31-ac1c-655db02cb8d0",
   "metadata": {},
   "outputs": [],
   "source": [
    "# Ajustar la cabeza del modelo para las clases de tu dataset\n",
    "in_features = model.roi_heads.box_predictor.cls_score.in_features\n",
    "model.roi_heads.box_predictor = torchvision.models.detection.faster_rcnn.FastRCNNPredictor(in_features, num_classes)"
   ]
  },
  {
   "cell_type": "code",
   "execution_count": 16,
   "id": "271a3aaf-8b0f-484f-85a0-f1df2700ad64",
   "metadata": {},
   "outputs": [],
   "source": [
    "# Ajustar también el predictor de máscaras si es necesario\n",
    "in_features_mask = model.roi_heads.mask_predictor.conv5_mask.in_channels\n",
    "hidden_layer = 256\n",
    "model.roi_heads.mask_predictor = torchvision.models.detection.mask_rcnn.MaskRCNNPredictor(in_features_mask, hidden_layer, num_classes)"
   ]
  },
  {
   "cell_type": "code",
   "execution_count": 17,
   "id": "75a81d9e-e1d2-41bb-a9ff-e79d1b9306f7",
   "metadata": {},
   "outputs": [],
   "source": [
    "# Definir optimizador\n",
    "optimizer = optim.SGD(model.parameters(), lr=0.005, momentum=0.9, weight_decay=0.0005)"
   ]
  },
  {
   "cell_type": "code",
   "execution_count": 18,
   "id": "e8086378-e996-4380-aeaf-2929e1bf04f8",
   "metadata": {
    "scrolled": true
   },
   "outputs": [
    {
     "name": "stdout",
     "output_type": "stream",
     "text": [
      "MaskRCNN(\n",
      "  (transform): GeneralizedRCNNTransform(\n",
      "      Normalize(mean=[0.485, 0.456, 0.406], std=[0.229, 0.224, 0.225])\n",
      "      Resize(min_size=(800,), max_size=1333, mode='bilinear')\n",
      "  )\n",
      "  (backbone): BackboneWithFPN(\n",
      "    (body): IntermediateLayerGetter(\n",
      "      (conv1): Conv2d(3, 64, kernel_size=(7, 7), stride=(2, 2), padding=(3, 3), bias=False)\n",
      "      (bn1): FrozenBatchNorm2d(64, eps=0.0)\n",
      "      (relu): ReLU(inplace=True)\n",
      "      (maxpool): MaxPool2d(kernel_size=3, stride=2, padding=1, dilation=1, ceil_mode=False)\n",
      "      (layer1): Sequential(\n",
      "        (0): Bottleneck(\n",
      "          (conv1): Conv2d(64, 64, kernel_size=(1, 1), stride=(1, 1), bias=False)\n",
      "          (bn1): FrozenBatchNorm2d(64, eps=0.0)\n",
      "          (conv2): Conv2d(64, 64, kernel_size=(3, 3), stride=(1, 1), padding=(1, 1), bias=False)\n",
      "          (bn2): FrozenBatchNorm2d(64, eps=0.0)\n",
      "          (conv3): Conv2d(64, 256, kernel_size=(1, 1), stride=(1, 1), bias=False)\n",
      "          (bn3): FrozenBatchNorm2d(256, eps=0.0)\n",
      "          (relu): ReLU(inplace=True)\n",
      "          (downsample): Sequential(\n",
      "            (0): Conv2d(64, 256, kernel_size=(1, 1), stride=(1, 1), bias=False)\n",
      "            (1): FrozenBatchNorm2d(256, eps=0.0)\n",
      "          )\n",
      "        )\n",
      "        (1): Bottleneck(\n",
      "          (conv1): Conv2d(256, 64, kernel_size=(1, 1), stride=(1, 1), bias=False)\n",
      "          (bn1): FrozenBatchNorm2d(64, eps=0.0)\n",
      "          (conv2): Conv2d(64, 64, kernel_size=(3, 3), stride=(1, 1), padding=(1, 1), bias=False)\n",
      "          (bn2): FrozenBatchNorm2d(64, eps=0.0)\n",
      "          (conv3): Conv2d(64, 256, kernel_size=(1, 1), stride=(1, 1), bias=False)\n",
      "          (bn3): FrozenBatchNorm2d(256, eps=0.0)\n",
      "          (relu): ReLU(inplace=True)\n",
      "        )\n",
      "        (2): Bottleneck(\n",
      "          (conv1): Conv2d(256, 64, kernel_size=(1, 1), stride=(1, 1), bias=False)\n",
      "          (bn1): FrozenBatchNorm2d(64, eps=0.0)\n",
      "          (conv2): Conv2d(64, 64, kernel_size=(3, 3), stride=(1, 1), padding=(1, 1), bias=False)\n",
      "          (bn2): FrozenBatchNorm2d(64, eps=0.0)\n",
      "          (conv3): Conv2d(64, 256, kernel_size=(1, 1), stride=(1, 1), bias=False)\n",
      "          (bn3): FrozenBatchNorm2d(256, eps=0.0)\n",
      "          (relu): ReLU(inplace=True)\n",
      "        )\n",
      "      )\n",
      "      (layer2): Sequential(\n",
      "        (0): Bottleneck(\n",
      "          (conv1): Conv2d(256, 128, kernel_size=(1, 1), stride=(1, 1), bias=False)\n",
      "          (bn1): FrozenBatchNorm2d(128, eps=0.0)\n",
      "          (conv2): Conv2d(128, 128, kernel_size=(3, 3), stride=(2, 2), padding=(1, 1), bias=False)\n",
      "          (bn2): FrozenBatchNorm2d(128, eps=0.0)\n",
      "          (conv3): Conv2d(128, 512, kernel_size=(1, 1), stride=(1, 1), bias=False)\n",
      "          (bn3): FrozenBatchNorm2d(512, eps=0.0)\n",
      "          (relu): ReLU(inplace=True)\n",
      "          (downsample): Sequential(\n",
      "            (0): Conv2d(256, 512, kernel_size=(1, 1), stride=(2, 2), bias=False)\n",
      "            (1): FrozenBatchNorm2d(512, eps=0.0)\n",
      "          )\n",
      "        )\n",
      "        (1): Bottleneck(\n",
      "          (conv1): Conv2d(512, 128, kernel_size=(1, 1), stride=(1, 1), bias=False)\n",
      "          (bn1): FrozenBatchNorm2d(128, eps=0.0)\n",
      "          (conv2): Conv2d(128, 128, kernel_size=(3, 3), stride=(1, 1), padding=(1, 1), bias=False)\n",
      "          (bn2): FrozenBatchNorm2d(128, eps=0.0)\n",
      "          (conv3): Conv2d(128, 512, kernel_size=(1, 1), stride=(1, 1), bias=False)\n",
      "          (bn3): FrozenBatchNorm2d(512, eps=0.0)\n",
      "          (relu): ReLU(inplace=True)\n",
      "        )\n",
      "        (2): Bottleneck(\n",
      "          (conv1): Conv2d(512, 128, kernel_size=(1, 1), stride=(1, 1), bias=False)\n",
      "          (bn1): FrozenBatchNorm2d(128, eps=0.0)\n",
      "          (conv2): Conv2d(128, 128, kernel_size=(3, 3), stride=(1, 1), padding=(1, 1), bias=False)\n",
      "          (bn2): FrozenBatchNorm2d(128, eps=0.0)\n",
      "          (conv3): Conv2d(128, 512, kernel_size=(1, 1), stride=(1, 1), bias=False)\n",
      "          (bn3): FrozenBatchNorm2d(512, eps=0.0)\n",
      "          (relu): ReLU(inplace=True)\n",
      "        )\n",
      "        (3): Bottleneck(\n",
      "          (conv1): Conv2d(512, 128, kernel_size=(1, 1), stride=(1, 1), bias=False)\n",
      "          (bn1): FrozenBatchNorm2d(128, eps=0.0)\n",
      "          (conv2): Conv2d(128, 128, kernel_size=(3, 3), stride=(1, 1), padding=(1, 1), bias=False)\n",
      "          (bn2): FrozenBatchNorm2d(128, eps=0.0)\n",
      "          (conv3): Conv2d(128, 512, kernel_size=(1, 1), stride=(1, 1), bias=False)\n",
      "          (bn3): FrozenBatchNorm2d(512, eps=0.0)\n",
      "          (relu): ReLU(inplace=True)\n",
      "        )\n",
      "      )\n",
      "      (layer3): Sequential(\n",
      "        (0): Bottleneck(\n",
      "          (conv1): Conv2d(512, 256, kernel_size=(1, 1), stride=(1, 1), bias=False)\n",
      "          (bn1): FrozenBatchNorm2d(256, eps=0.0)\n",
      "          (conv2): Conv2d(256, 256, kernel_size=(3, 3), stride=(2, 2), padding=(1, 1), bias=False)\n",
      "          (bn2): FrozenBatchNorm2d(256, eps=0.0)\n",
      "          (conv3): Conv2d(256, 1024, kernel_size=(1, 1), stride=(1, 1), bias=False)\n",
      "          (bn3): FrozenBatchNorm2d(1024, eps=0.0)\n",
      "          (relu): ReLU(inplace=True)\n",
      "          (downsample): Sequential(\n",
      "            (0): Conv2d(512, 1024, kernel_size=(1, 1), stride=(2, 2), bias=False)\n",
      "            (1): FrozenBatchNorm2d(1024, eps=0.0)\n",
      "          )\n",
      "        )\n",
      "        (1): Bottleneck(\n",
      "          (conv1): Conv2d(1024, 256, kernel_size=(1, 1), stride=(1, 1), bias=False)\n",
      "          (bn1): FrozenBatchNorm2d(256, eps=0.0)\n",
      "          (conv2): Conv2d(256, 256, kernel_size=(3, 3), stride=(1, 1), padding=(1, 1), bias=False)\n",
      "          (bn2): FrozenBatchNorm2d(256, eps=0.0)\n",
      "          (conv3): Conv2d(256, 1024, kernel_size=(1, 1), stride=(1, 1), bias=False)\n",
      "          (bn3): FrozenBatchNorm2d(1024, eps=0.0)\n",
      "          (relu): ReLU(inplace=True)\n",
      "        )\n",
      "        (2): Bottleneck(\n",
      "          (conv1): Conv2d(1024, 256, kernel_size=(1, 1), stride=(1, 1), bias=False)\n",
      "          (bn1): FrozenBatchNorm2d(256, eps=0.0)\n",
      "          (conv2): Conv2d(256, 256, kernel_size=(3, 3), stride=(1, 1), padding=(1, 1), bias=False)\n",
      "          (bn2): FrozenBatchNorm2d(256, eps=0.0)\n",
      "          (conv3): Conv2d(256, 1024, kernel_size=(1, 1), stride=(1, 1), bias=False)\n",
      "          (bn3): FrozenBatchNorm2d(1024, eps=0.0)\n",
      "          (relu): ReLU(inplace=True)\n",
      "        )\n",
      "        (3): Bottleneck(\n",
      "          (conv1): Conv2d(1024, 256, kernel_size=(1, 1), stride=(1, 1), bias=False)\n",
      "          (bn1): FrozenBatchNorm2d(256, eps=0.0)\n",
      "          (conv2): Conv2d(256, 256, kernel_size=(3, 3), stride=(1, 1), padding=(1, 1), bias=False)\n",
      "          (bn2): FrozenBatchNorm2d(256, eps=0.0)\n",
      "          (conv3): Conv2d(256, 1024, kernel_size=(1, 1), stride=(1, 1), bias=False)\n",
      "          (bn3): FrozenBatchNorm2d(1024, eps=0.0)\n",
      "          (relu): ReLU(inplace=True)\n",
      "        )\n",
      "        (4): Bottleneck(\n",
      "          (conv1): Conv2d(1024, 256, kernel_size=(1, 1), stride=(1, 1), bias=False)\n",
      "          (bn1): FrozenBatchNorm2d(256, eps=0.0)\n",
      "          (conv2): Conv2d(256, 256, kernel_size=(3, 3), stride=(1, 1), padding=(1, 1), bias=False)\n",
      "          (bn2): FrozenBatchNorm2d(256, eps=0.0)\n",
      "          (conv3): Conv2d(256, 1024, kernel_size=(1, 1), stride=(1, 1), bias=False)\n",
      "          (bn3): FrozenBatchNorm2d(1024, eps=0.0)\n",
      "          (relu): ReLU(inplace=True)\n",
      "        )\n",
      "        (5): Bottleneck(\n",
      "          (conv1): Conv2d(1024, 256, kernel_size=(1, 1), stride=(1, 1), bias=False)\n",
      "          (bn1): FrozenBatchNorm2d(256, eps=0.0)\n",
      "          (conv2): Conv2d(256, 256, kernel_size=(3, 3), stride=(1, 1), padding=(1, 1), bias=False)\n",
      "          (bn2): FrozenBatchNorm2d(256, eps=0.0)\n",
      "          (conv3): Conv2d(256, 1024, kernel_size=(1, 1), stride=(1, 1), bias=False)\n",
      "          (bn3): FrozenBatchNorm2d(1024, eps=0.0)\n",
      "          (relu): ReLU(inplace=True)\n",
      "        )\n",
      "      )\n",
      "      (layer4): Sequential(\n",
      "        (0): Bottleneck(\n",
      "          (conv1): Conv2d(1024, 512, kernel_size=(1, 1), stride=(1, 1), bias=False)\n",
      "          (bn1): FrozenBatchNorm2d(512, eps=0.0)\n",
      "          (conv2): Conv2d(512, 512, kernel_size=(3, 3), stride=(2, 2), padding=(1, 1), bias=False)\n",
      "          (bn2): FrozenBatchNorm2d(512, eps=0.0)\n",
      "          (conv3): Conv2d(512, 2048, kernel_size=(1, 1), stride=(1, 1), bias=False)\n",
      "          (bn3): FrozenBatchNorm2d(2048, eps=0.0)\n",
      "          (relu): ReLU(inplace=True)\n",
      "          (downsample): Sequential(\n",
      "            (0): Conv2d(1024, 2048, kernel_size=(1, 1), stride=(2, 2), bias=False)\n",
      "            (1): FrozenBatchNorm2d(2048, eps=0.0)\n",
      "          )\n",
      "        )\n",
      "        (1): Bottleneck(\n",
      "          (conv1): Conv2d(2048, 512, kernel_size=(1, 1), stride=(1, 1), bias=False)\n",
      "          (bn1): FrozenBatchNorm2d(512, eps=0.0)\n",
      "          (conv2): Conv2d(512, 512, kernel_size=(3, 3), stride=(1, 1), padding=(1, 1), bias=False)\n",
      "          (bn2): FrozenBatchNorm2d(512, eps=0.0)\n",
      "          (conv3): Conv2d(512, 2048, kernel_size=(1, 1), stride=(1, 1), bias=False)\n",
      "          (bn3): FrozenBatchNorm2d(2048, eps=0.0)\n",
      "          (relu): ReLU(inplace=True)\n",
      "        )\n",
      "        (2): Bottleneck(\n",
      "          (conv1): Conv2d(2048, 512, kernel_size=(1, 1), stride=(1, 1), bias=False)\n",
      "          (bn1): FrozenBatchNorm2d(512, eps=0.0)\n",
      "          (conv2): Conv2d(512, 512, kernel_size=(3, 3), stride=(1, 1), padding=(1, 1), bias=False)\n",
      "          (bn2): FrozenBatchNorm2d(512, eps=0.0)\n",
      "          (conv3): Conv2d(512, 2048, kernel_size=(1, 1), stride=(1, 1), bias=False)\n",
      "          (bn3): FrozenBatchNorm2d(2048, eps=0.0)\n",
      "          (relu): ReLU(inplace=True)\n",
      "        )\n",
      "      )\n",
      "    )\n",
      "    (fpn): FeaturePyramidNetwork(\n",
      "      (inner_blocks): ModuleList(\n",
      "        (0): Conv2dNormActivation(\n",
      "          (0): Conv2d(256, 256, kernel_size=(1, 1), stride=(1, 1))\n",
      "        )\n",
      "        (1): Conv2dNormActivation(\n",
      "          (0): Conv2d(512, 256, kernel_size=(1, 1), stride=(1, 1))\n",
      "        )\n",
      "        (2): Conv2dNormActivation(\n",
      "          (0): Conv2d(1024, 256, kernel_size=(1, 1), stride=(1, 1))\n",
      "        )\n",
      "        (3): Conv2dNormActivation(\n",
      "          (0): Conv2d(2048, 256, kernel_size=(1, 1), stride=(1, 1))\n",
      "        )\n",
      "      )\n",
      "      (layer_blocks): ModuleList(\n",
      "        (0-3): 4 x Conv2dNormActivation(\n",
      "          (0): Conv2d(256, 256, kernel_size=(3, 3), stride=(1, 1), padding=(1, 1))\n",
      "        )\n",
      "      )\n",
      "      (extra_blocks): LastLevelMaxPool()\n",
      "    )\n",
      "  )\n",
      "  (rpn): RegionProposalNetwork(\n",
      "    (anchor_generator): AnchorGenerator()\n",
      "    (head): RPNHead(\n",
      "      (conv): Sequential(\n",
      "        (0): Conv2dNormActivation(\n",
      "          (0): Conv2d(256, 256, kernel_size=(3, 3), stride=(1, 1), padding=(1, 1))\n",
      "          (1): ReLU(inplace=True)\n",
      "        )\n",
      "      )\n",
      "      (cls_logits): Conv2d(256, 3, kernel_size=(1, 1), stride=(1, 1))\n",
      "      (bbox_pred): Conv2d(256, 12, kernel_size=(1, 1), stride=(1, 1))\n",
      "    )\n",
      "  )\n",
      "  (roi_heads): RoIHeads(\n",
      "    (box_roi_pool): MultiScaleRoIAlign(featmap_names=['0', '1', '2', '3'], output_size=(7, 7), sampling_ratio=2)\n",
      "    (box_head): TwoMLPHead(\n",
      "      (fc6): Linear(in_features=12544, out_features=1024, bias=True)\n",
      "      (fc7): Linear(in_features=1024, out_features=1024, bias=True)\n",
      "    )\n",
      "    (box_predictor): FastRCNNPredictor(\n",
      "      (cls_score): Linear(in_features=1024, out_features=6, bias=True)\n",
      "      (bbox_pred): Linear(in_features=1024, out_features=24, bias=True)\n",
      "    )\n",
      "    (mask_roi_pool): MultiScaleRoIAlign(featmap_names=['0', '1', '2', '3'], output_size=(14, 14), sampling_ratio=2)\n",
      "    (mask_head): MaskRCNNHeads(\n",
      "      (0): Conv2dNormActivation(\n",
      "        (0): Conv2d(256, 256, kernel_size=(3, 3), stride=(1, 1), padding=(1, 1))\n",
      "        (1): ReLU(inplace=True)\n",
      "      )\n",
      "      (1): Conv2dNormActivation(\n",
      "        (0): Conv2d(256, 256, kernel_size=(3, 3), stride=(1, 1), padding=(1, 1))\n",
      "        (1): ReLU(inplace=True)\n",
      "      )\n",
      "      (2): Conv2dNormActivation(\n",
      "        (0): Conv2d(256, 256, kernel_size=(3, 3), stride=(1, 1), padding=(1, 1))\n",
      "        (1): ReLU(inplace=True)\n",
      "      )\n",
      "      (3): Conv2dNormActivation(\n",
      "        (0): Conv2d(256, 256, kernel_size=(3, 3), stride=(1, 1), padding=(1, 1))\n",
      "        (1): ReLU(inplace=True)\n",
      "      )\n",
      "    )\n",
      "    (mask_predictor): MaskRCNNPredictor(\n",
      "      (conv5_mask): ConvTranspose2d(256, 256, kernel_size=(2, 2), stride=(2, 2))\n",
      "      (relu): ReLU(inplace=True)\n",
      "      (mask_fcn_logits): Conv2d(256, 6, kernel_size=(1, 1), stride=(1, 1))\n",
      "    )\n",
      "  )\n",
      ")\n"
     ]
    }
   ],
   "source": [
    "# Verificar la estructura del modelo ##Ver si se corrio el codigo correctamente\n",
    "print(model)"
   ]
  },
  {
   "cell_type": "code",
   "execution_count": 19,
   "id": "d91c4a8c-b68e-4cc4-8c31-59cbac6141e9",
   "metadata": {},
   "outputs": [
    {
     "name": "stdout",
     "output_type": "stream",
     "text": [
      "Número de clases en el predictor de cajas: 6\n"
     ]
    }
   ],
   "source": [
    "# Comprobar el número de clases en el predictor de cajas\n",
    "print(f\"Número de clases en el predictor de cajas: {model.roi_heads.box_predictor.cls_score.out_features}\")"
   ]
  },
  {
   "cell_type": "code",
   "execution_count": 20,
   "id": "6baa272e-9616-4671-a1cd-4a8a8d733906",
   "metadata": {},
   "outputs": [
    {
     "name": "stdout",
     "output_type": "stream",
     "text": [
      "Número de clases en el predictor de máscaras: 6\n"
     ]
    }
   ],
   "source": [
    "# Comprobar el número de clases en el predictor de máscaras\n",
    "print(f\"Número de clases en el predictor de máscaras: {model.roi_heads.mask_predictor.mask_fcn_logits.out_channels}\")"
   ]
  },
  {
   "cell_type": "code",
   "execution_count": 21,
   "id": "39438a33-6de9-41c0-b67a-11e7a79aa06d",
   "metadata": {},
   "outputs": [
    {
     "name": "stdout",
     "output_type": "stream",
     "text": [
      "Optimizador: SGD (\n",
      "Parameter Group 0\n",
      "    dampening: 0\n",
      "    differentiable: False\n",
      "    foreach: None\n",
      "    fused: None\n",
      "    lr: 0.005\n",
      "    maximize: False\n",
      "    momentum: 0.9\n",
      "    nesterov: False\n",
      "    weight_decay: 0.0005\n",
      ")\n"
     ]
    }
   ],
   "source": [
    "# Verificar que el optimizador está configurado correctamente\n",
    "print(f\"Optimizador: {optimizer}\")"
   ]
  },
  {
   "cell_type": "code",
   "execution_count": 23,
   "id": "99c465a3-2903-4ef5-b0f6-2fb6477f60f6",
   "metadata": {
    "collapsed": true,
    "jupyter": {
     "outputs_hidden": true
    },
    "scrolled": true
   },
   "outputs": [
    {
     "name": "stdout",
     "output_type": "stream",
     "text": [
      "Predicción de prueba realizada con éxito.\n",
      "Tipos de salidas: [{'boxes': tensor([[  6.6281,   3.0637, 216.3106, 112.4733],\n",
      "        [148.4702,  79.5544, 151.7088,  83.1525],\n",
      "        [ 67.0124,  20.5115, 206.4914, 133.8413],\n",
      "        [138.6029, 125.2381, 141.7133, 128.4921],\n",
      "        [173.6647, 113.5426, 176.3110, 116.6722],\n",
      "        [ 50.6243,  96.7417,  53.6109, 100.6298],\n",
      "        [ 67.9814, 146.7273,  71.6175, 150.5229],\n",
      "        [ 66.1415, 142.0909,  71.3698, 145.5857],\n",
      "        [141.6255, 117.6756, 144.6655, 119.9425],\n",
      "        [132.9279, 111.9669, 137.4594, 115.0456],\n",
      "        [147.9505,  80.3360, 150.9344,  83.8356],\n",
      "        [ 46.4352, 156.7977,  50.0164, 160.4601],\n",
      "        [ 62.4205, 140.4106,  65.6724, 143.7223],\n",
      "        [174.3944, 113.1815, 177.4140, 116.4763],\n",
      "        [146.2512, 118.6746, 149.3932, 121.2890],\n",
      "        [146.5798,  79.3680, 149.6487,  82.8010],\n",
      "        [ 65.0748, 141.6740,  74.0282, 150.4204],\n",
      "        [174.2261, 151.4905, 177.2943, 154.3372],\n",
      "        [126.5326, 116.6762, 129.3238, 119.4533],\n",
      "        [ 62.0285,  48.9856,  65.0502,  52.1974],\n",
      "        [145.6190, 117.4443, 148.4072, 120.0729],\n",
      "        [126.4786, 115.8786, 129.1577, 118.4872],\n",
      "        [169.7159, 174.7645, 172.7613, 177.9725],\n",
      "        [171.0130, 143.7178, 174.1535, 147.3466],\n",
      "        [ 98.0891,  96.0930, 101.2581,  99.1486],\n",
      "        [ 47.9068, 157.2425,  50.9771, 160.8047],\n",
      "        [173.2047, 151.8960, 176.2992, 154.8327],\n",
      "        [103.0398, 115.3956, 106.3753, 118.6893],\n",
      "        [128.7629, 109.5144, 132.4437, 112.1077],\n",
      "        [ 96.8069,  95.4203,  99.9120,  98.5362],\n",
      "        [138.0721, 140.1210, 167.4177, 149.3113],\n",
      "        [132.0753, 111.0582, 136.4811, 114.0048],\n",
      "        [112.3137,  82.5382, 115.6543,  85.9507],\n",
      "        [ 82.1150, 144.4167,  85.0923, 147.7728],\n",
      "        [ 63.0657,  49.0015,  66.1691,  52.0673],\n",
      "        [125.4831, 117.4904, 128.2746, 120.3145],\n",
      "        [172.3822, 113.1957, 175.1283, 115.8193],\n",
      "        [ 63.2309,  47.9424,  66.2674,  51.0366],\n",
      "        [160.5221, 102.2356, 165.0344, 105.6995],\n",
      "        [ 49.1539, 157.0451,  52.2881, 160.6117],\n",
      "        [130.0861,  58.6983, 133.6194,  62.0747],\n",
      "        [142.8219, 117.3875, 145.8218, 120.0948],\n",
      "        [102.6717, 116.4001, 105.7362, 119.8731],\n",
      "        [121.6239, 165.6870, 124.7234, 169.4855],\n",
      "        [133.5523, 113.3571, 136.8914, 116.9751],\n",
      "        [ 81.0298, 144.0679,  84.1511, 147.5629],\n",
      "        [161.6529,  64.2497, 164.5972,  67.1574],\n",
      "        [142.1912, 118.4107, 145.3106, 120.8811],\n",
      "        [112.5750,  88.7861, 115.5905,  91.5501],\n",
      "        [146.8638, 117.8969, 149.9807, 120.5793],\n",
      "        [139.3890, 114.8275, 142.7802, 117.8884],\n",
      "        [132.1589, 156.7870, 135.5610, 161.6331],\n",
      "        [146.3542, 121.6893, 149.6072, 124.4532],\n",
      "        [ 63.4932,  46.6918,  66.4302,  49.9735],\n",
      "        [138.4453, 124.2434, 141.5974, 126.9751],\n",
      "        [127.6459, 115.6765, 130.4015, 118.4230],\n",
      "        [140.0066, 143.8764, 154.6251, 158.6715],\n",
      "        [135.8247, 111.0440, 138.6889, 114.6090],\n",
      "        [129.8890, 110.2620, 132.6858, 112.9214],\n",
      "        [172.1181, 151.5515, 175.1645, 154.5733],\n",
      "        [111.6511,  86.3389, 114.6718,  89.2285],\n",
      "        [139.3299, 124.7420, 142.4260, 127.4665],\n",
      "        [169.7130, 173.4278, 172.6006, 176.7222],\n",
      "        [170.8822,  58.1916, 173.8578,  61.0562],\n",
      "        [174.2441, 171.4175, 177.0816, 174.7271],\n",
      "        [127.5214, 116.5676, 130.4533, 119.5199],\n",
      "        [107.6896, 101.4305, 111.0084, 105.4487],\n",
      "        [ 46.9838, 155.3426,  50.8420, 158.5477],\n",
      "        [136.3242, 115.5155, 139.4393, 118.4688],\n",
      "        [ 99.2095,  96.2505, 102.2092,  99.1658],\n",
      "        [146.8576, 122.3660, 150.0865, 124.9941],\n",
      "        [166.4055, 157.2435, 169.5379, 160.0169],\n",
      "        [146.2009, 116.7162, 149.5451, 119.6740],\n",
      "        [128.8450, 115.1359, 131.4540, 118.0808],\n",
      "        [139.6280, 116.1968, 142.9806, 118.9328],\n",
      "        [147.1345,  74.4227, 150.2598,  77.7770],\n",
      "        [144.2089, 117.6869, 146.9281, 120.0561],\n",
      "        [ 66.6568,  45.6855,  69.7134,  49.0490],\n",
      "        [112.5310,  84.3015, 116.0132,  87.2917],\n",
      "        [174.9838, 114.5049, 177.9813, 117.7125],\n",
      "        [127.8229, 114.6744, 130.2816, 117.2746],\n",
      "        [ 83.9371, 144.5288,  86.7263, 148.0285],\n",
      "        [ 64.6420,  45.9847,  67.7194,  49.5060],\n",
      "        [112.9084,  87.9261, 116.4656,  90.8828],\n",
      "        [170.6929, 173.5894, 173.5787, 176.7838],\n",
      "        [ 65.5401,  45.5585,  68.6500,  49.1462],\n",
      "        [134.9460, 116.6761, 138.2143, 119.5553],\n",
      "        [132.9099, 151.9393, 148.2890, 165.6209],\n",
      "        [112.3430,  87.1121, 115.6493,  90.1667],\n",
      "        [ 89.2299,  95.9695,  91.9690,  99.1402],\n",
      "        [148.8549,  81.4772, 151.9850,  84.9048],\n",
      "        [107.7206,  99.7300, 111.1261, 103.4266],\n",
      "        [ 65.6467,  67.2535,  69.0717,  70.1430],\n",
      "        [126.5392, 117.5158, 129.5528, 120.5019],\n",
      "        [147.4273, 125.9716, 150.3746, 128.2487],\n",
      "        [113.6582,  83.5378, 116.9707,  86.8445],\n",
      "        [ 96.7919,  96.5070,  99.9526,  99.5529],\n",
      "        [125.4213, 118.7074, 128.3058, 121.4288],\n",
      "        [130.9837, 110.4728, 135.5441, 113.2027],\n",
      "        [132.6953, 113.9022, 135.9745, 117.4497]]), 'labels': tensor([5, 1, 5, 1, 1, 1, 1, 1, 1, 1, 1, 1, 1, 1, 1, 1, 1, 1, 1, 1, 1, 1, 1, 1,\n",
      "        1, 1, 1, 1, 1, 1, 1, 1, 1, 1, 1, 1, 1, 1, 1, 1, 1, 1, 1, 1, 1, 1, 1, 1,\n",
      "        1, 1, 1, 1, 1, 1, 1, 1, 1, 1, 1, 1, 1, 1, 1, 1, 1, 1, 1, 1, 1, 1, 1, 1,\n",
      "        1, 1, 1, 1, 1, 1, 1, 1, 1, 1, 1, 1, 1, 1, 1, 1, 1, 1, 1, 1, 1, 1, 1, 1,\n",
      "        1, 1, 1, 1]), 'scores': tensor([0.3937, 0.3537, 0.3533, 0.3455, 0.3447, 0.3447, 0.3430, 0.3398, 0.3397,\n",
      "        0.3387, 0.3381, 0.3367, 0.3367, 0.3359, 0.3355, 0.3343, 0.3327, 0.3322,\n",
      "        0.3317, 0.3317, 0.3315, 0.3307, 0.3302, 0.3292, 0.3291, 0.3289, 0.3288,\n",
      "        0.3283, 0.3282, 0.3275, 0.3269, 0.3266, 0.3265, 0.3264, 0.3260, 0.3257,\n",
      "        0.3252, 0.3251, 0.3247, 0.3239, 0.3233, 0.3230, 0.3230, 0.3229, 0.3228,\n",
      "        0.3227, 0.3224, 0.3222, 0.3220, 0.3217, 0.3216, 0.3213, 0.3212, 0.3211,\n",
      "        0.3209, 0.3204, 0.3198, 0.3196, 0.3194, 0.3179, 0.3173, 0.3173, 0.3173,\n",
      "        0.3171, 0.3170, 0.3168, 0.3165, 0.3164, 0.3161, 0.3160, 0.3157, 0.3151,\n",
      "        0.3150, 0.3148, 0.3147, 0.3145, 0.3144, 0.3141, 0.3140, 0.3139, 0.3138,\n",
      "        0.3136, 0.3132, 0.3127, 0.3126, 0.3126, 0.3126, 0.3123, 0.3122, 0.3121,\n",
      "        0.3117, 0.3116, 0.3114, 0.3111, 0.3108, 0.3107, 0.3106, 0.3103, 0.3101,\n",
      "        0.3097]), 'masks': tensor([[[[0., 0., 0.,  ..., 0., 0., 0.],\n",
      "          [0., 0., 0.,  ..., 0., 0., 0.],\n",
      "          [0., 0., 0.,  ..., 0., 0., 0.],\n",
      "          ...,\n",
      "          [0., 0., 0.,  ..., 0., 0., 0.],\n",
      "          [0., 0., 0.,  ..., 0., 0., 0.],\n",
      "          [0., 0., 0.,  ..., 0., 0., 0.]]],\n",
      "\n",
      "\n",
      "        [[[0., 0., 0.,  ..., 0., 0., 0.],\n",
      "          [0., 0., 0.,  ..., 0., 0., 0.],\n",
      "          [0., 0., 0.,  ..., 0., 0., 0.],\n",
      "          ...,\n",
      "          [0., 0., 0.,  ..., 0., 0., 0.],\n",
      "          [0., 0., 0.,  ..., 0., 0., 0.],\n",
      "          [0., 0., 0.,  ..., 0., 0., 0.]]],\n",
      "\n",
      "\n",
      "        [[[0., 0., 0.,  ..., 0., 0., 0.],\n",
      "          [0., 0., 0.,  ..., 0., 0., 0.],\n",
      "          [0., 0., 0.,  ..., 0., 0., 0.],\n",
      "          ...,\n",
      "          [0., 0., 0.,  ..., 0., 0., 0.],\n",
      "          [0., 0., 0.,  ..., 0., 0., 0.],\n",
      "          [0., 0., 0.,  ..., 0., 0., 0.]]],\n",
      "\n",
      "\n",
      "        ...,\n",
      "\n",
      "\n",
      "        [[[0., 0., 0.,  ..., 0., 0., 0.],\n",
      "          [0., 0., 0.,  ..., 0., 0., 0.],\n",
      "          [0., 0., 0.,  ..., 0., 0., 0.],\n",
      "          ...,\n",
      "          [0., 0., 0.,  ..., 0., 0., 0.],\n",
      "          [0., 0., 0.,  ..., 0., 0., 0.],\n",
      "          [0., 0., 0.,  ..., 0., 0., 0.]]],\n",
      "\n",
      "\n",
      "        [[[0., 0., 0.,  ..., 0., 0., 0.],\n",
      "          [0., 0., 0.,  ..., 0., 0., 0.],\n",
      "          [0., 0., 0.,  ..., 0., 0., 0.],\n",
      "          ...,\n",
      "          [0., 0., 0.,  ..., 0., 0., 0.],\n",
      "          [0., 0., 0.,  ..., 0., 0., 0.],\n",
      "          [0., 0., 0.,  ..., 0., 0., 0.]]],\n",
      "\n",
      "\n",
      "        [[[0., 0., 0.,  ..., 0., 0., 0.],\n",
      "          [0., 0., 0.,  ..., 0., 0., 0.],\n",
      "          [0., 0., 0.,  ..., 0., 0., 0.],\n",
      "          ...,\n",
      "          [0., 0., 0.,  ..., 0., 0., 0.],\n",
      "          [0., 0., 0.,  ..., 0., 0., 0.],\n",
      "          [0., 0., 0.,  ..., 0., 0., 0.]]]])}]\n"
     ]
    }
   ],
   "source": [
    "# Intentar hacer una predicción de prueba\n",
    "dummy_input = torch.rand(1, 3, 224, 224)  # Imagen de prueba\n",
    "model.eval()\n",
    "with torch.no_grad():\n",
    "    outputs = model(dummy_input)\n",
    "\n",
    "print(\"Predicción de prueba realizada con éxito.\")\n",
    "print(f\"Tipos de salidas: {outputs}\")"
   ]
  },
  {
   "cell_type": "code",
   "execution_count": 24,
   "id": "75babfae-a99d-4472-a62f-9630d7ee44bd",
   "metadata": {},
   "outputs": [
    {
     "name": "stdout",
     "output_type": "stream",
     "text": [
      "Dispositivo del modelo: cpu\n"
     ]
    }
   ],
   "source": [
    "# Verificar si el modelo está en el dispositivo correcto (CPU o GPU)\n",
    "print(f\"Dispositivo del modelo: {next(model.parameters()).device}\")"
   ]
  },
  {
   "cell_type": "code",
   "execution_count": null,
   "id": "e5998ff5-79b2-41e9-9ba8-37f11bfb1707",
   "metadata": {},
   "outputs": [],
   "source": [
    "# Ciclo de entrenamiento ## Continuar\n",
    "num_epochs = 10\n",
    "for epoch in range(num_epochs):\n",
    "    model.train()\n",
    "    running_loss = 0.0\n",
    "    for images, targets in train_loader:\n",
    "        optimizer.zero_grad()\n",
    "        loss_dict = model(images, targets)\n",
    "        losses = sum(loss for loss in loss_dict.values())\n",
    "        losses.backward()\n",
    "        optimizer.step()\n",
    "        running_loss += losses.item()\n",
    "\n",
    "    print(f\"Epoch [{epoch+1}/{num_epochs}], Loss: {running_loss/len(train_loader)}\")  "
   ]
  }
 ],
 "metadata": {
  "kernelspec": {
   "display_name": "Python 3 (ipykernel)",
   "language": "python",
   "name": "python3"
  },
  "language_info": {
   "codemirror_mode": {
    "name": "ipython",
    "version": 3
   },
   "file_extension": ".py",
   "mimetype": "text/x-python",
   "name": "python",
   "nbconvert_exporter": "python",
   "pygments_lexer": "ipython3",
   "version": "3.12.5"
  }
 },
 "nbformat": 4,
 "nbformat_minor": 5
}
